{
 "cells": [
  {
   "cell_type": "code",
   "execution_count": 1,
   "metadata": {},
   "outputs": [
    {
     "name": "stdout",
     "output_type": "stream",
     "text": [
      "Requirement already satisfied: openpyxl in c:\\users\\paul\\anaconda3\\lib\\site-packages (2.6.2)\n",
      "Requirement already satisfied: jdcal in c:\\users\\paul\\anaconda3\\lib\\site-packages (from openpyxl) (1.4.1)\n",
      "Requirement already satisfied: et-xmlfile in c:\\users\\paul\\anaconda3\\lib\\site-packages (from openpyxl) (1.0.1)\n",
      "Note: you may need to restart the kernel to use updated packages.\n"
     ]
    }
   ],
   "source": [
    "pip install openpyxl"
   ]
  },
  {
   "cell_type": "code",
   "execution_count": 5,
   "metadata": {},
   "outputs": [
    {
     "name": "stdout",
     "output_type": "stream",
     "text": [
      "C:\\Users\\Paul\n"
     ]
    }
   ],
   "source": [
    "import os\n",
    "cwd = os.getcwd()\n",
    "print(cwd)"
   ]
  },
  {
   "cell_type": "code",
   "execution_count": 205,
   "metadata": {},
   "outputs": [],
   "source": [
    "# rerun this section each time there are changes to the source excel file\n",
    "from openpyxl import load_workbook\n",
    "import re\n",
    "\n",
    "\n",
    "filename='C:/Users/Paul/Documents/Python Data/Excel samples/Data Capture v4 200310.xlsx'\n",
    "\n",
    "try:\n",
    "    workbook = load_workbook(filename=filename)\n",
    "except:\n",
    "    print(\"please close MS Excel ... ya clown!\")\n",
    "#print(workbook.sheetnames)\n",
    "#sheet = workbook.active\n",
    "#sheet = workbook[\"Scenario 1\"]\n",
    "#sheet\n",
    "\n"
   ]
  },
  {
   "cell_type": "code",
   "execution_count": 204,
   "metadata": {},
   "outputs": [
    {
     "data": {
      "text/plain": [
       "'Scenario 7'"
      ]
     },
     "execution_count": 204,
     "metadata": {},
     "output_type": "execute_result"
    }
   ],
   "source": [
    "current_sheet.title"
   ]
  },
  {
   "cell_type": "code",
   "execution_count": 206,
   "metadata": {},
   "outputs": [
    {
     "name": "stdout",
     "output_type": "stream",
     "text": [
      "Scenario 1\n",
      "Scenario 1 matches the search pattern\n",
      "Scenario 2\n",
      "Scenario 2 matches the search pattern\n",
      "Scenario 3\n",
      "Scenario 3 matches the search pattern\n",
      "Scenario 4\n",
      "Scenario 4 matches the search pattern\n",
      "Scenario 5\n",
      "Scenario 5 matches the search pattern\n",
      "Scenario 6\n",
      "Scenario 6 matches the search pattern\n",
      "Scenario 7\n",
      "Scenario 7 matches the search pattern\n",
      "Scenario 1 Pivot\n",
      "Config\n",
      "Combined Scenario Data\n"
     ]
    }
   ],
   "source": [
    "# output_rows will be the accumulation of data to be placed in the new sheet in the spreadsheet\n",
    "output_rows = []\n",
    "output_rows.append([\"Scenario\", \"name\", \"role\", \"function\", \"subfunction\", \"perspective\", \"score\"])\n",
    "\n",
    "pattern = re.compile(r\"^[Ss]cenario \\d$\")\n",
    "\n",
    "for wb_sheet in workbook.sheetnames:\n",
    "    print(wb_sheet)\n",
    "    if pattern.search(wb_sheet):\n",
    "        print (\"%s matches the search pattern\" % wb_sheet)\n",
    "        current_sheet = workbook[wb_sheet]\n",
    "        # header content in each sheet is differnt so must be refreshed for each sheet read\n",
    "        headers = []\n",
    "\n",
    "        # capturing the values from the header rows of the spreadsheet into list headers[[]]\n",
    "        for row in current_sheet.iter_rows(min_row=1,\n",
    "                                   max_row=3,\n",
    "                                   values_only=True):\n",
    "            headers.append([])\n",
    "            for header in row:\n",
    "                headers[-1].append(header)\n",
    "        #        print(header)\n",
    "        #print(headers)\n",
    "        #exit\n",
    "\n",
    "\n",
    "        for row in current_sheet.iter_rows(min_row=4,\n",
    "        #                          max_row=3, limeted rows for testing only\n",
    "                                   values_only=True):\n",
    "            column = 2\n",
    "        #    output_rows.append([])\n",
    "            for value in row[2:] :\n",
    "                output_rows.append([])\n",
    "        \n",
    "                output_rows[-1].append(headers[1][0])\n",
    "                output_rows[-1].append(row[0])\n",
    "                output_rows[-1].append(row[1])\n",
    "                output_rows[-1].append(headers[0][column])\n",
    "                output_rows[-1].append(headers[1][column])\n",
    "                output_rows[-1].append(headers[2][column])\n",
    "                if value and 1<= value <= 5:     \n",
    "                    output_rows[-1].append(value)\n",
    "                else:\n",
    "                    output_rows[-1].append(\"\")\n",
    "                column +=1"
   ]
  },
  {
   "cell_type": "code",
   "execution_count": 200,
   "metadata": {},
   "outputs": [
    {
     "data": {
      "text/plain": [
       "[['Scenario',\n",
       "  'name',\n",
       "  'role',\n",
       "  'function',\n",
       "  'subfunction',\n",
       "  'perspective',\n",
       "  'score'],\n",
       " ['Scenario 1',\n",
       "  'Chad Fullmer',\n",
       "  'Supervisor',\n",
       "  'Event Management',\n",
       "  'Event Management',\n",
       "  'Process',\n",
       "  ''],\n",
       " ['Scenario 1',\n",
       "  'Chad Fullmer',\n",
       "  'Supervisor',\n",
       "  'Event Management',\n",
       "  'Event Management',\n",
       "  'Comapre',\n",
       "  '']]"
      ]
     },
     "execution_count": 200,
     "metadata": {},
     "output_type": "execute_result"
    }
   ],
   "source": [
    "output_rows[0:3][0:3]"
   ]
  },
  {
   "cell_type": "code",
   "execution_count": 207,
   "metadata": {},
   "outputs": [
    {
     "name": "stdout",
     "output_type": "stream",
     "text": [
      "replacing :Combined Scenario Data\n"
     ]
    }
   ],
   "source": [
    "newDataSheet = \"Combined Scenario Data\"\n",
    "\n",
    "#print(workbook.sheetnames)\n",
    "if newDataSheet in workbook.sheetnames:\n",
    "    oldSheet = workbook[newDataSheet]\n",
    "    workbook.remove(oldSheet)\n",
    "    print (\"replacing :\"+newDataSheet)\n",
    "else:\n",
    "    print(newDataSheet+ \": first creation\")\n",
    "workbook.create_sheet(newDataSheet)\n",
    "workbook.sheetnames\n",
    "#output_sheet_name = workbook[newDataSheet]\n",
    "try:\n",
    "    workbook.save(filename=filename)\n",
    "except:\n",
    "    print(\"please close MS Excel ... ya clown!\")\n",
    "    \n",
    "newSheet = workbook[newDataSheet]"
   ]
  },
  {
   "cell_type": "code",
   "execution_count": 208,
   "metadata": {},
   "outputs": [
    {
     "name": "stdout",
     "output_type": "stream",
     "text": [
      "ready to use\n"
     ]
    }
   ],
   "source": [
    "#sheet.cell(row=2, column=2).value = 2  : to use if the following is not as simple as it seems\n",
    "\n",
    "for row in output_rows:\n",
    "    newSheet.append(row)\n",
    "    \n",
    "workbook.save(filename=filename)\n",
    "print(\"ready to use\")"
   ]
  }
 ],
 "metadata": {
  "kernelspec": {
   "display_name": "Python 3",
   "language": "python",
   "name": "python3"
  },
  "language_info": {
   "codemirror_mode": {
    "name": "ipython",
    "version": 3
   },
   "file_extension": ".py",
   "mimetype": "text/x-python",
   "name": "python",
   "nbconvert_exporter": "python",
   "pygments_lexer": "ipython3",
   "version": "3.7.3"
  }
 },
 "nbformat": 4,
 "nbformat_minor": 2
}
